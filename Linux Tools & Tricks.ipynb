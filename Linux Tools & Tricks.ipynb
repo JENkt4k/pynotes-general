{
 "cells": [
  {
   "cell_type": "markdown",
   "metadata": {},
   "source": [
    "# Sticky keys causing issues? Need Password feedback?\n",
    "\n",
    "Had an issue with my keyboard where a few keys were sticking, worn, and they weren't detected or showed up twice. Constant password auth failures so a quick Google search returned the following results:\n",
    "\n",
    "\n",
    "  1) [Change Password Entry To Show * (asterix) instead of no feed back - less secure!](http://lifehacker.com/make-password-asterisks-visible-in-your-linux-terminal-1183533223)\n",
    "\n",
    "  ```bash \n",
    "  #run command\n",
    "  sudo visudo\n",
    "  ```\n",
    "    \n",
    "  ```bash\n",
    "  #change\n",
    "  Defaults        env_reset\n",
    "  #to\n",
    "  Defaults        env_reset,pwfeedback\n",
    "  ```\n",
    "\n",
    "  2) [Change from VI to Nano or Emacs etc..](https://www.garron.me/en/linux/visudo-command-sudoers-file-sudo-default-editor.html)\n",
    "\n",
    "\n",
    "  ```bash \n",
    "  export VISUAL=nano; visudo\n",
    "  ```\n",
    "\n",
    "[Notes * use spaces not tabs](https://gist.github.com/clintel/1155906)"
   ]
  },
  {
   "cell_type": "markdown",
   "metadata": {},
   "source": [
    "# Test"
   ]
  },
  {
   "cell_type": "code",
   "execution_count": null,
   "metadata": {
    "collapsed": true
   },
   "outputs": [],
   "source": []
  }
 ],
 "metadata": {
  "kernelspec": {
   "display_name": "Python 2",
   "language": "python",
   "name": "python2"
  },
  "language_info": {
   "codemirror_mode": {
    "name": "ipython",
    "version": 2
   },
   "file_extension": ".py",
   "mimetype": "text/x-python",
   "name": "python",
   "nbconvert_exporter": "python",
   "pygments_lexer": "ipython2",
   "version": "2.7.6"
  }
 },
 "nbformat": 4,
 "nbformat_minor": 0
}
