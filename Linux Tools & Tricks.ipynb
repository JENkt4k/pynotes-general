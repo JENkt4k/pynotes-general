{
 "cells": [
  {
   "cell_type": "markdown",
   "metadata": {},
   "source": [
    "# Sticky keys causing issues? Need Password feedback?\n",
    "\n",
    "Had an issue with my keyboard where a few keys were sticking, worn, and they weren't detected or showed up twice. Constant password auth failures so a quick Google search returned the following results:\n",
    "\n",
    "\n",
    "  1) [Change Password Entry To Show * (asterix) instead of no feed back - less secure!](http://lifehacker.com/make-password-asterisks-visible-in-your-linux-terminal-1183533223)\n",
    "\n",
    "  ```bash \n",
    "  #run command\n",
    "  sudo visudo\n",
    "  ```\n",
    "    \n",
    "  ```bash\n",
    "  #change\n",
    "  Defaults        env_reset\n",
    "  #to\n",
    "  Defaults        env_reset,pwfeedback\n",
    "  ```\n",
    "\n",
    "  2) [Change from VI to Nano or Emacs etc..](https://www.garron.me/en/linux/visudo-command-sudoers-file-sudo-default-editor.html)\n",
    "\n",
    "\n",
    "  ```bash \n",
    "  export VISUAL=nano; visudo\n",
    "  ```\n",
    "\n",
    "[Notes * use spaces not tabs](https://gist.github.com/clintel/1155906)"
   ]
  },
  {
   "cell_type": "markdown",
   "metadata": {},
   "source": [
<<<<<<< HEAD
    "# Changing Git author info\n",
    "\n",
    "[source](https://help.github.com/articles/changing-author-info/)\n",
    "\n",
    "Check out clean repo:\n",
    "\n",
    "```bash \n",
    "git clone --bare https://github.com/[user]/[repo].git\n",
    "cd [repo].git\n",
    "```\n",
    "\n",
    "create git-author-rewrite.sh file:\n",
    "\n",
    "```bash\n",
    "#!/bin/sh\n",
    "\n",
    "git filter-branch --env-filter '\n",
    "OLD_EMAIL=\"your-old-email@example.com\"\n",
    "CORRECT_NAME=\"Your Correct Name\"\n",
    "CORRECT_EMAIL=\"your-correct-email@example.com\"\n",
    "if [ \"$GIT_COMMITTER_EMAIL\" = \"$OLD_EMAIL\" ]\n",
    "then\n",
    "    export GIT_COMMITTER_NAME=\"$CORRECT_NAME\"\n",
    "    export GIT_COMMITTER_EMAIL=\"$CORRECT_EMAIL\"\n",
    "fi\n",
    "if [ \"$GIT_AUTHOR_EMAIL\" = \"$OLD_EMAIL\" ]\n",
    "then\n",
    "    export GIT_AUTHOR_NAME=\"$CORRECT_NAME\"\n",
    "    export GIT_AUTHOR_EMAIL=\"$CORRECT_EMAIL\"\n",
    "fi\n",
    "' --tag-name-filter cat -- --branches --tags\n",
    "```\n",
    "\n",
    "\n",
    "make executable:\n",
    "```bash \n",
    "chmod +x create git-author-rewrite.sh\n",
    "```\n",
    "\n",
    "review changes:\n",
    "```bash\n",
    "git log\n",
    "```\n",
    "\n",
    "push changes:\n",
    "```bash\n",
    "git push --force --tags origin 'refs/heads/*'\n",
    "```\n",
    "\n",
    "cleanup:\n",
    "```bash\n",
    "cd ..\n",
    "rm -rf [repo].git\n",
    "```\n",
    "\n"
   ]
  },
  {
   "cell_type": "markdown",
   "metadata": {},
   "source": [
    "### Managing Remotes\n",
    "\n",
    "(Managing Remotes Documentation)[https://git-scm.com/book/ch2-5.html]\n",
    "\n",
    "(Multiple push remotes)[http://stackoverflow.com/questions/14290113/git-pushing-code-to-two-remotes]"
=======
    "# Test two"
>>>>>>> 66912923d3f09eced788b352d3f0c901c4dfa250
   ]
  },
  {
   "cell_type": "code",
   "execution_count": null,
   "metadata": {
    "collapsed": true
   },
   "outputs": [],
   "source": []
  }
 ],
 "metadata": {
  "kernelspec": {
   "display_name": "Python 2",
   "language": "python",
   "name": "python2"
  },
  "language_info": {
   "codemirror_mode": {
    "name": "ipython",
    "version": 2
   },
   "file_extension": ".py",
   "mimetype": "text/x-python",
   "name": "python",
   "nbconvert_exporter": "python",
   "pygments_lexer": "ipython2",
   "version": "2.7.6"
  }
 },
 "nbformat": 4,
 "nbformat_minor": 0
}
