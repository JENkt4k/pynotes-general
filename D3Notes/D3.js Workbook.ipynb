{
 "cells": [
  {
   "cell_type": "markdown",
   "metadata": {},
   "source": [
    "# D3 Notes\n",
    "\n",
    "Working through the tutorials from https://d3js.org/ \n",
    "\n",
    "** Note: '%%HTML' causes CORS exception. To fix this simply use '%%writefile [filename]' and then the following python code to load in an Iframe. **\n",
    "\n",
    "```python\n",
    "from IPython.display import IFrame\n",
    "IFrame(\"[filename]\", width=850, height=150)\n",
    "```\n",
    "\n",
    "## Tutorial #1 [from here](https://bost.ocks.org/mike/bar/)\n",
    "\n",
    "[source](https://bl.ocks.org/mbostock/7322386)"
   ]
  },
  {
   "cell_type": "code",
   "execution_count": 1,
   "metadata": {
    "collapsed": false
   },
   "outputs": [
    {
     "name": "stdout",
     "output_type": "stream",
     "text": [
      "Writing tutorial.bar.html\n"
     ]
    }
   ],
   "source": [
    "%%writefile tutorial.bar.html\n",
    "<!DOCTYPE html>\n",
    "<meta charset=\"utf-8\">\n",
    "<style>\n",
    "\n",
    ".chart div {\n",
    "  font: 10px sans-serif;\n",
    "  background-color: steelblue;\n",
    "  text-align: right;\n",
    "  padding: 3px;\n",
    "  margin: 1px;\n",
    "  color: white;\n",
    "}\n",
    "\n",
    "</style>\n",
    "<div class=\"chart\"></div>\n",
    "<script src=\"https://d3js.org/d3.v3.min.js\"></script>\n",
    "<script>\n",
    "\n",
    "var data = [4, 8, 15, 16, 23, 42];\n",
    "\n",
    "var x = d3.scale.linear()\n",
    "    .domain([0, d3.max(data)])\n",
    "    .range([0, 420]);\n",
    "\n",
    "d3.select(\".chart\")\n",
    "  .selectAll(\"div\")\n",
    "    .data(data)\n",
    "  .enter().append(\"div\")\n",
    "    .style(\"width\", function(d) { return x(d) + \"px\"; })\n",
    "    .text(function(d) { return d; });\n",
    "\n",
    "</script>"
   ]
  },
  {
   "cell_type": "code",
   "execution_count": 5,
   "metadata": {
    "collapsed": false
   },
   "outputs": [
    {
     "data": {
      "text/html": [
       "\n",
       "        <iframe\n",
       "            width=\"850\"\n",
       "            height=\"150\"\n",
       "            src=\"tutorial.bar.html\"\n",
       "            frameborder=\"0\"\n",
       "            allowfullscreen\n",
       "        ></iframe>\n",
       "        "
      ],
      "text/plain": [
       "<IPython.lib.display.IFrame at 0x7f94f0610710>"
      ]
     },
     "execution_count": 5,
     "metadata": {},
     "output_type": "execute_result"
    }
   ],
   "source": [
    "from IPython.display import IFrame\n",
    "IFrame(\"tutorial.bar.html\", width=850, height=150)"
   ]
  },
  {
   "cell_type": "code",
   "execution_count": null,
   "metadata": {
    "collapsed": true
   },
   "outputs": [],
   "source": []
  }
 ],
 "metadata": {
  "kernelspec": {
   "display_name": "Python 2",
   "language": "python",
   "name": "python2"
  },
  "language_info": {
   "codemirror_mode": {
    "name": "ipython",
    "version": 2
   },
   "file_extension": ".py",
   "mimetype": "text/x-python",
   "name": "python",
   "nbconvert_exporter": "python",
   "pygments_lexer": "ipython2",
   "version": "2.7.6"
  }
 },
 "nbformat": 4,
 "nbformat_minor": 0
}
