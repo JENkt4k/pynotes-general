{
 "cells": [
  {
   "cell_type": "markdown",
   "metadata": {},
   "source": [
    "# D3 Notes\n",
    "\n",
    "Working through the tutorials from https://d3js.org/ \n",
    "\n",
    "** Note: '%%HTML' causes CORS exception. To fix this simply use '%%writefile [filename]' and then the following python code to load in an Iframe. (optionally you can load the file '.js' locally as well)**\n",
    "\n",
    "```python\n",
    "from IPython.display import IFrame\n",
    "IFrame(\"[filename]\", width=850, height=150)\n",
    "```\n",
    "\n",
    "## Tutorial #1 - Make a simple bar Chart \n",
    "\n",
    "[tutorial here](https://bost.ocks.org/mike/bar/)\n",
    "\n",
    "[source code](https://bl.ocks.org/mbostock/7322386)"
   ]
  },
  {
   "cell_type": "code",
   "execution_count": 1,
   "metadata": {
    "collapsed": false
   },
   "outputs": [
    {
     "name": "stdout",
     "output_type": "stream",
     "text": [
      "Writing tutorial.bar.html\n"
     ]
    }
   ],
   "source": [
    "%%writefile tutorial.bar.html\n",
    "<!DOCTYPE html>\n",
    "<meta charset=\"utf-8\">\n",
    "<style>\n",
    "\n",
    ".chart div {\n",
    "  font: 10px sans-serif;\n",
    "  background-color: steelblue;\n",
    "  text-align: right;\n",
    "  padding: 3px;\n",
    "  margin: 1px;\n",
    "  color: white;\n",
    "}\n",
    "\n",
    "</style>\n",
    "<div class=\"chart\"></div>\n",
    "<script src=\"https://d3js.org/d3.v3.min.js\"></script>\n",
    "<script>\n",
    "\n",
    "var data = [4, 8, 15, 16, 23, 42];\n",
    "\n",
    "var x = d3.scale.linear()\n",
    "    .domain([0, d3.max(data)])\n",
    "    .range([0, 420]);\n",
    "\n",
    "d3.select(\".chart\")\n",
    "  .selectAll(\"div\")\n",
    "    .data(data)\n",
    "  .enter().append(\"div\")\n",
    "    .style(\"width\", function(d) { return x(d) + \"px\"; })\n",
    "    .text(function(d) { return d; });\n",
    "\n",
    "</script>"
   ]
  },
  {
   "cell_type": "code",
   "execution_count": 5,
   "metadata": {
    "collapsed": false
   },
   "outputs": [
    {
     "data": {
      "text/html": [
       "\n",
       "        <iframe\n",
       "            width=\"850\"\n",
       "            height=\"150\"\n",
       "            src=\"tutorial.bar.html\"\n",
       "            frameborder=\"0\"\n",
       "            allowfullscreen\n",
       "        ></iframe>\n",
       "        "
      ],
      "text/plain": [
       "<IPython.lib.display.IFrame at 0x7f94f0610710>"
      ]
     },
     "execution_count": 5,
     "metadata": {},
     "output_type": "execute_result"
    }
   ],
   "source": [
    "from IPython.display import IFrame\n",
    "IFrame(\"tutorial.bar.html\", width=850, height=150)"
   ]
  },
  {
   "cell_type": "markdown",
   "metadata": {},
   "source": [
    "### Optional - Copy to local directory\n",
    "\n",
    "```bash \n",
    "wget https://d3js.org/d3.v3.js\n",
    "\n",
    "#or \n",
    "\n",
    "wget https://d3js.org/d3.v3.min.js\n",
    "```\n",
    "\n",
    "Then change:\n",
    "```html\n",
    "<script src=\"https://d3js.org/d3.v3.min.js\"></script>\n",
    "```\n",
    "or\n",
    "```html\n",
    "<script src=\"//d3js.org/d3.v3.min.js\"></script>\n",
    "```\n",
    "\n",
    "to \n",
    "\n",
    "```html\n",
    "<script src=\"d3.v3.min.js\"></script>\n",
    "```\n",
    "\n",
    "*See below*"
   ]
  },
  {
   "cell_type": "code",
   "execution_count": 27,
   "metadata": {
    "collapsed": false
   },
   "outputs": [
    {
     "data": {
      "text/html": [
       "<!DOCTYPE html>\n",
       "<meta charset=\"utf-8\">\n",
       "<style>\n",
       "\n",
       ".chart div {\n",
       "  font: 10px sans-serif;\n",
       "  background-color: steelblue;\n",
       "  text-align: right;\n",
       "  padding: 3px;\n",
       "  margin: 1px;\n",
       "  color: white;\n",
       "}\n",
       "\n",
       "</style>\n",
       "<div class=\"chart\"></div>\n",
       "<script src=\"d3.v3.min.js\"></script>\n",
       "<script>\n",
       "\n",
       "var data = [4, 8, 15, 16, 23, 42];\n",
       "\n",
       "var x = d3.scale.linear()\n",
       "    .domain([0, d3.max(data)])\n",
       "    .range([0, 420]);\n",
       "\n",
       "d3.select(\".chart\")\n",
       "  .selectAll(\"div\")\n",
       "    .data(data)\n",
       "  .enter().append(\"div\")\n",
       "    .style(\"width\", function(d) { return x(d) + \"px\"; })\n",
       "    .text(function(d) { return d; });\n",
       "\n",
       "</script>"
      ],
      "text/plain": [
       "<IPython.core.display.HTML object>"
      ]
     },
     "metadata": {},
     "output_type": "display_data"
    }
   ],
   "source": [
    "%%HTML\n",
    "<!DOCTYPE html>\n",
    "<meta charset=\"utf-8\">\n",
    "<style>\n",
    "\n",
    ".chart div {\n",
    "  font: 10px sans-serif;\n",
    "  background-color: steelblue;\n",
    "  text-align: right;\n",
    "  padding: 3px;\n",
    "  margin: 1px;\n",
    "  color: white;\n",
    "}\n",
    "\n",
    "</style>\n",
    "<div class=\"chart\"></div>\n",
    "<script src=\"d3.v3.min.js\"></script>\n",
    "<script>\n",
    "\n",
    "var data = [4, 8, 15, 16, 23, 42];\n",
    "\n",
    "var x = d3.scale.linear()\n",
    "    .domain([0, d3.max(data)])\n",
    "    .range([0, 420]);\n",
    "\n",
    "d3.select(\".chart\")\n",
    "  .selectAll(\"div\")\n",
    "    .data(data)\n",
    "  .enter().append(\"div\")\n",
    "    .style(\"width\", function(d) { return x(d) + \"px\"; })\n",
    "    .text(function(d) { return d; });\n",
    "\n",
    "</script>"
   ]
  },
  {
   "cell_type": "markdown",
   "metadata": {},
   "source": [
    "# Tutorial #2 - Load External Data\n",
    "\n",
    "[tutorial](https://bost.ocks.org/mike/bar/2/)\n",
    "\n",
    "[source code](https://bl.ocks.org/mbostock/7341714)\n",
    "\n",
    "\n",
    "### Load data from and external '.tsv' file\n",
    "\n",
    "\n",
    "*from source*\n",
    "\n",
    "\"To use this data in a web browser, we need to download the file from a web server and then parse it, which converts the text of the file into usable JavaScript objects. Fortunately, these two tasks can be performed by a single function, d3.tsv.\n",
    "\n",
    "Loading data introduces a new complexity: downloads are asynchronous. When you call d3.tsv, it returns immediately while the file downloads in the background. At some point in the future when the download finishes, your callback function is invoked with the new data, or an error if the download failed. In effect your code is evaluated out of order:\"\n",
    "\n",
    "```javascript\n",
    "// 1. Code here runs first, before the download starts.\n",
    "\n",
    "d3.tsv(\"data.tsv\", function(error, data) {\n",
    "  // 3. Code here runs last, after the download finishes.\n",
    "});\n",
    "\n",
    "// 2. Code here runs second, while the file is downloading.\n",
    "\n",
    "```"
   ]
  },
  {
   "cell_type": "code",
   "execution_count": 6,
   "metadata": {
    "collapsed": false
   },
   "outputs": [
    {
     "name": "stdout",
     "output_type": "stream",
     "text": [
      "Writing tutorial.bar2.html\n"
     ]
    }
   ],
   "source": [
    "%%writefile tutorial.bar2.html\n",
    "<!DOCTYPE html>\n",
    "<meta charset=\"utf-8\">\n",
    "<style>\n",
    "\n",
    ".chart rect {\n",
    "  fill: steelblue;\n",
    "}\n",
    "\n",
    ".chart text {\n",
    "  fill: white;\n",
    "  font: 10px sans-serif;\n",
    "  text-anchor: end;\n",
    "}\n",
    "\n",
    "</style>\n",
    "<svg class=\"chart\"></svg>\n",
    "<script src=\"//d3js.org/d3.v3.min.js\"></script>\n",
    "<script>\n",
    "\n",
    "var width = 420,\n",
    "    barHeight = 20;\n",
    "\n",
    "var x = d3.scale.linear()\n",
    "    .range([0, width]);\n",
    "\n",
    "var chart = d3.select(\".chart\")\n",
    "    .attr(\"width\", width);\n",
    "\n",
    "d3.tsv(\"data.tsv\", type, function(error, data) {\n",
    "  x.domain([0, d3.max(data, function(d) { return d.value; })]);\n",
    "\n",
    "  chart.attr(\"height\", barHeight * data.length);\n",
    "\n",
    "  var bar = chart.selectAll(\"g\")\n",
    "      .data(data)\n",
    "    .enter().append(\"g\")\n",
    "      .attr(\"transform\", function(d, i) { return \"translate(0,\" + i * barHeight + \")\"; });\n",
    "\n",
    "  bar.append(\"rect\")\n",
    "      .attr(\"width\", function(d) { return x(d.value); })\n",
    "      .attr(\"height\", barHeight - 1);\n",
    "\n",
    "  bar.append(\"text\")\n",
    "      .attr(\"x\", function(d) { return x(d.value) - 3; })\n",
    "      .attr(\"y\", barHeight / 2)\n",
    "      .attr(\"dy\", \".35em\")\n",
    "      .text(function(d) { return d.value; });\n",
    "});\n",
    "\n",
    "function type(d) {\n",
    "  d.value = +d.value; // coerce to number\n",
    "  return d;\n",
    "}\n",
    "\n",
    "</script>"
   ]
  },
  {
   "cell_type": "code",
   "execution_count": 7,
   "metadata": {
    "collapsed": false
   },
   "outputs": [
    {
     "name": "stdout",
     "output_type": "stream",
     "text": [
      "Writing data.tsv\n"
     ]
    }
   ],
   "source": [
    "%%writefile data.tsv\n",
    "name\tvalue\n",
    "Locke\t4\n",
    "Reyes\t8\n",
    "Ford\t15\n",
    "Jarrah\t16\n",
    "Shephard\t23\n",
    "Kwon\t42"
   ]
  },
  {
   "cell_type": "code",
   "execution_count": 8,
   "metadata": {
    "collapsed": false
   },
   "outputs": [
    {
     "data": {
      "text/html": [
       "\n",
       "        <iframe\n",
       "            width=\"850\"\n",
       "            height=\"150\"\n",
       "            src=\"tutorial.bar2.html\"\n",
       "            frameborder=\"0\"\n",
       "            allowfullscreen\n",
       "        ></iframe>\n",
       "        "
      ],
      "text/plain": [
       "<IPython.lib.display.IFrame at 0x7f94f0610950>"
      ]
     },
     "execution_count": 8,
     "metadata": {},
     "output_type": "execute_result"
    }
   ],
   "source": [
    "from IPython.display import IFrame\n",
    "IFrame(\"tutorial.bar2.html\", width=850, height=150)"
   ]
  },
  {
   "cell_type": "markdown",
   "metadata": {},
   "source": [
    "# Tutorial 3 - Rotating Columns\n",
    "\n",
    "[tutorial](https://bost.ocks.org/mike/bar/3/)\n",
    "\n",
    "[source code](https://bl.ocks.org/mbostock/3885304)\n",
    "\n",
    "### Important notes\n",
    "\n",
    "#### Fixed width vs calculated width\n",
    "*from source*\n",
    "\n",
    "\"We previously multiplied the var barHeight by the index of each data point (0, 1, 2, …) to produce fixed-height bars. The resulting chart’s height thus depended on the size of the dataset. But here the opposite behavior is desired: the chart width is fixed and the bar width variable. So rather than fix the barHeight, now we compute the barWidth by dividing the available chart width by the size of the dataset, data.length.\"\n",
    "\n",
    "...\n",
    "```javascript\n",
    "d3.tsv(\"data.tsv\", type, function(error, data) {\n",
    "  y.domain([0, d3.max(data, function(d) { return d.value; })]);\n",
    "```\n",
    "\n",
    "```javascript\n",
    "  var barWidth = width / data.length;\n",
    "```\n",
    "\n",
    "...\n",
    "\n",
    "#### Loading Labels\n",
    "\n",
    "...\n",
    "```javascript\n",
    "chart.append(\"g\")\n",
    "    .attr(\"class\", \"y axis\")\n",
    "    .call(yAxis)\n",
    "  .append(\"text\")\n",
    "    .attr(\"transform\", \"rotate(-90)\")\n",
    "    .attr(\"y\", 6)\n",
    "    .attr(\"dy\", \".71em\")\n",
    "    .style(\"text-anchor\", \"end\")\n",
    "    .text(\"Frequency\");\n",
    "```\n",
    "...\n",
    "\n",
    "\"Unit-appropriate number formatting also improves legibility by tailoring the display to your data. Since our chart displays relative frequency, percentages are more appropriate than the default behavior which shows a number between 0 and 1. A format string as the second argument to axis.ticks will customize the tick formatting, and the scale will automatically choose a precision appropriate to the tick interval.\"\n",
    "\n",
    "...\n",
    "```javascript\n",
    "var yAxis = d3.svg.axis()\n",
    "    .scale(y)\n",
    "    .orient(\"left\")\n",
    "    .ticks(10, \"%\");\n",
    "```\n",
    "...\n",
    "\n",
    "\n"
   ]
  },
  {
   "cell_type": "code",
   "execution_count": 14,
   "metadata": {
    "collapsed": false
   },
   "outputs": [
    {
     "name": "stdout",
     "output_type": "stream",
     "text": [
      "Overwriting tutorial.bar3.vertical.html\n"
     ]
    }
   ],
   "source": [
    "%%writefile tutorial.bar3.vertical.html\n",
    "<!DOCTYPE html>\n",
    "<meta charset=\"utf-8\">\n",
    "<style>\n",
    "\n",
    ".bar {\n",
    "  fill: steelblue;\n",
    "}\n",
    "\n",
    ".bar:hover {\n",
    "  fill: brown;\n",
    "}\n",
    "\n",
    ".axis--x path {\n",
    "  display: none;\n",
    "}\n",
    "\n",
    "</style>\n",
    "<svg width=\"960\" height=\"500\"></svg>\n",
    "<script src=\"https://d3js.org/d3.v4.min.js\"></script>\n",
    "<script>\n",
    "\n",
    "var svg = d3.select(\"svg\"),\n",
    "    margin = {top: 20, right: 20, bottom: 30, left: 40},\n",
    "    width = +svg.attr(\"width\") - margin.left - margin.right,\n",
    "    height = +svg.attr(\"height\") - margin.top - margin.bottom;\n",
    "\n",
    "var x = d3.scaleBand().rangeRound([0, width]).padding(0.1),\n",
    "    y = d3.scaleLinear().rangeRound([height, 0]);\n",
    "\n",
    "var g = svg.append(\"g\")\n",
    "    .attr(\"transform\", \"translate(\" + margin.left + \",\" + margin.top + \")\");\n",
    "\n",
    "d3.tsv(\"data.tutorial3.tsv\", function(d) {\n",
    "  d.frequency = +d.frequency;\n",
    "  return d;\n",
    "}, function(error, data) {\n",
    "  if (error) throw error;\n",
    "\n",
    "  x.domain(data.map(function(d) { return d.letter; }));\n",
    "  y.domain([0, d3.max(data, function(d) { return d.frequency; })]);\n",
    "\n",
    "  g.append(\"g\")\n",
    "      .attr(\"class\", \"axis axis--x\")\n",
    "      .attr(\"transform\", \"translate(0,\" + height + \")\")\n",
    "      .call(d3.axisBottom(x));\n",
    "\n",
    "  g.append(\"g\")\n",
    "      .attr(\"class\", \"axis axis--y\")\n",
    "      .call(d3.axisLeft(y).ticks(10, \"%\"))\n",
    "    .append(\"text\")\n",
    "      .attr(\"transform\", \"rotate(-90)\")\n",
    "      .attr(\"y\", 6)\n",
    "      .attr(\"dy\", \"0.71em\")\n",
    "      .attr(\"text-anchor\", \"end\")\n",
    "      .text(\"Frequency\");\n",
    "\n",
    "  g.selectAll(\".bar\")\n",
    "    .data(data)\n",
    "    .enter().append(\"rect\")\n",
    "      .attr(\"class\", \"bar\")\n",
    "      .attr(\"x\", function(d) { return x(d.letter); })\n",
    "      .attr(\"y\", function(d) { return y(d.frequency); })\n",
    "      .attr(\"width\", x.bandwidth())\n",
    "      .attr(\"height\", function(d) { return height - y(d.frequency); });\n",
    "});\n",
    "\n",
    "</script>"
   ]
  },
  {
   "cell_type": "code",
   "execution_count": 13,
   "metadata": {
    "collapsed": false
   },
   "outputs": [
    {
     "name": "stdout",
     "output_type": "stream",
     "text": [
      "Writing data.tutorial3.tsv\n"
     ]
    }
   ],
   "source": [
    "%%writefile data.tutorial3.tsv\n",
    "letter\tfrequency\n",
    "A\t.08167\n",
    "B\t.01492\n",
    "C\t.02782\n",
    "D\t.04253\n",
    "E\t.12702\n",
    "F\t.02288\n",
    "G\t.02015\n",
    "H\t.06094\n",
    "I\t.06966\n",
    "J\t.00153\n",
    "K\t.00772\n",
    "L\t.04025\n",
    "M\t.02406\n",
    "N\t.06749\n",
    "O\t.07507\n",
    "P\t.01929\n",
    "Q\t.00095\n",
    "R\t.05987\n",
    "S\t.06327\n",
    "T\t.09056\n",
    "U\t.02758\n",
    "V\t.00978\n",
    "W\t.02360\n",
    "X\t.00150\n",
    "Y\t.01974\n",
    "Z\t.00074"
   ]
  },
  {
   "cell_type": "code",
   "execution_count": 26,
   "metadata": {
    "collapsed": false
   },
   "outputs": [
    {
     "data": {
      "text/html": [
       "\n",
       "        <iframe\n",
       "            width=\"970\"\n",
       "            height=\"530\"\n",
       "            src=\"tutorial.bar3.vertical.html\"\n",
       "            frameborder=\"0\"\n",
       "            allowfullscreen\n",
       "        ></iframe>\n",
       "        "
      ],
      "text/plain": [
       "<IPython.lib.display.IFrame at 0x7f94f0610f90>"
      ]
     },
     "execution_count": 26,
     "metadata": {},
     "output_type": "execute_result"
    }
   ],
   "source": [
    "from IPython.display import IFrame\n",
    "IFrame(\"tutorial.bar3.vertical.html\", width=970, height=530)"
   ]
  },
  {
   "cell_type": "code",
   "execution_count": null,
   "metadata": {
    "collapsed": true
   },
   "outputs": [],
   "source": []
  }
 ],
 "metadata": {
  "kernelspec": {
   "display_name": "Python 2",
   "language": "python",
   "name": "python2"
  },
  "language_info": {
   "codemirror_mode": {
    "name": "ipython",
    "version": 2
   },
   "file_extension": ".py",
   "mimetype": "text/x-python",
   "name": "python",
   "nbconvert_exporter": "python",
   "pygments_lexer": "ipython2",
   "version": "2.7.6"
  }
 },
 "nbformat": 4,
 "nbformat_minor": 0
}
