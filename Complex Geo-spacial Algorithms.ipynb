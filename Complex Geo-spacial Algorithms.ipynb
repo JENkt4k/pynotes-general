{
 "cells": [
  {
   "cell_type": "markdown",
   "metadata": {},
   "source": [
    "# Simplification of Terrian using Voronoi Dulaney Teselesation\n",
    "\n",
    "## Background\n",
    "\n",
    "[MAP GENERALIZATION BY SKELETON RETRACTION](http://icaci.org/files/documents/ICC_proceedings/ICC2001/icc2001/file/f13034.pdf)\n",
    "\n",
    "[Crust and Anti-Crust: A One-Step Boundary and Skeleton Extraction Algorithm](https://pdfs.semanticscholar.org/164c/7fbe0ab8126b93020153d774780d875f7d69.pdf)\n",
    "\n",
    "[ADVANTAGES OF THE VORONOI SPATIAL MODEL](https://pdfs.semanticscholar.org/13db/35133b613038ceb635e7e367749d87a94a9a.pdf)\n",
    "\n",
    "[The Quad-Arc Data Structure](https://www.voronoi.com/wiki/images/4/4d/The_Quad-Arc_data_structure.pdf)\n",
    "\n",
    "## Suplimental sites\n",
    "\n",
    "[Voronoi.com](https://www.voronoi.com)\n",
    "\n",
    "[Fortune's algorithm](https://en.wikipedia.org/wiki/Fortune's_algorithm)\n",
    "\n",
    "[Fortune's algorithm in Java Script by Raymond Hill](http://www.raymondhill.net/voronoi/rhill-voronoi.html)\n",
    "\n",
    "[GitHub for Raymond Hill's Javascript](https://github.com/gorhill/Javascript-Voronoi)\n",
    "\n",
    "[pyDelaunay2D](https://github.com/jmespadero/pyDelaunay2D)\n",
    "\n",
    "[Fortune’s algorithm and implementation](http://blog.ivank.net/fortunes-algorithm-and-implementation.html)\n",
    "\n",
    "[Another C++ implementation](https://www.cs.hmc.edu/~mbrubeck/voronoi.html)\n",
    "\n",
    "### Misc\n",
    "[Simplification of objects for adaptive matching and visualization](http://compbio.mit.edu/publications/_ConferencesBookChapters.pdf)"
   ]
  },
  {
   "cell_type": "code",
   "execution_count": 9,
   "metadata": {
    "collapsed": false
   },
   "outputs": [
    {
     "data": {
      "text/html": [
       "\n",
       "        <iframe\n",
       "            width=\"850\"\n",
       "            height=\"800\"\n",
       "            src=\"https://en.wikipedia.org/wiki/Fortune's_algorithm#Pseudocode\"\n",
       "            frameborder=\"0\"\n",
       "            allowfullscreen\n",
       "        ></iframe>\n",
       "        "
      ],
      "text/plain": [
       "<IPython.lib.display.IFrame at 0x7f9e858f6150>"
      ]
     },
     "execution_count": 9,
     "metadata": {},
     "output_type": "execute_result"
    }
   ],
   "source": [
    "from IPython.display import IFrame\n",
    "IFrame(\"https://en.wikipedia.org/wiki/Fortune's_algorithm#Pseudocode\", width=850, height=800)"
   ]
  },
  {
   "cell_type": "code",
   "execution_count": 8,
   "metadata": {
    "collapsed": false
   },
   "outputs": [
    {
     "data": {
      "text/html": [
       "\n",
       "        <iframe\n",
       "            width=\"850\"\n",
       "            height=\"800\"\n",
       "            src=\"http://www.raymondhill.net/voronoi/rhill-voronoi.html\"\n",
       "            frameborder=\"0\"\n",
       "            allowfullscreen\n",
       "        ></iframe>\n",
       "        "
      ],
      "text/plain": [
       "<IPython.lib.display.IFrame at 0x7f9e858f66d0>"
      ]
     },
     "execution_count": 8,
     "metadata": {},
     "output_type": "execute_result"
    }
   ],
   "source": [
    "from IPython.display import IFrame\n",
    "IFrame('http://www.raymondhill.net/voronoi/rhill-voronoi.html', width=850, height=800)"
   ]
  },
  {
   "cell_type": "code",
   "execution_count": null,
   "metadata": {
    "collapsed": true
   },
   "outputs": [],
   "source": []
  }
 ],
 "metadata": {
  "kernelspec": {
   "display_name": "Python 2",
   "language": "python",
   "name": "python2"
  },
  "language_info": {
   "codemirror_mode": {
    "name": "ipython",
    "version": 2
   },
   "file_extension": ".py",
   "mimetype": "text/x-python",
   "name": "python",
   "nbconvert_exporter": "python",
   "pygments_lexer": "ipython2",
   "version": "2.7.6"
  }
 },
 "nbformat": 4,
 "nbformat_minor": 0
}
