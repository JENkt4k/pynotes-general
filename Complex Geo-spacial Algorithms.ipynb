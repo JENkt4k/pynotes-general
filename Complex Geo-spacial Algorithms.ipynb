{
 "cells": [
  {
   "cell_type": "markdown",
   "metadata": {
    "deletable": true,
    "editable": true
   },
   "source": [
    "# Simplification of Terrian using Voronoi Delaunay Teselesation\n",
    "\n",
    "## Background\n",
    "\n",
    "[MAP GENERALIZATION BY SKELETON RETRACTION](http://icaci.org/files/documents/ICC_proceedings/ICC2001/icc2001/file/f13034.pdf)\n",
    "\n",
    "[Crust and Anti-Crust: A One-Step Boundary and Skeleton Extraction Algorithm](https://pdfs.semanticscholar.org/164c/7fbe0ab8126b93020153d774780d875f7d69.pdf)\n",
    "\n",
    "[ADVANTAGES OF THE VORONOI SPATIAL MODEL](https://pdfs.semanticscholar.org/13db/35133b613038ceb635e7e367749d87a94a9a.pdf)\n",
    "\n",
    "[The Quad-Arc Data Structure](https://www.voronoi.com/wiki/images/4/4d/The_Quad-Arc_data_structure.pdf)\n",
    "\n",
    "[C++ implementation of Quad Arc data structure](http://www.cs.cmu.edu/afs/andrew/scs/cs/15-463/2001/pub/src/a2/quadedge.html)\n",
    "\n",
    "## Suplimental sites\n",
    "\n",
    "[Voronoi.com](https://www.voronoi.com)\n",
    "\n",
    "[Fortune's algorithm](https://en.wikipedia.org/wiki/Fortune's_algorithm)\n",
    "\n",
    "[Steve Fortunes site](http://ect.bell-labs.com/who/sjf/)\n",
    "\n",
    "[- alternate](http://www3.cs.stonybrook.edu/~algorith/implement/fortune/implement.shtml)\n",
    "\n",
    "[Fortune's algorithm in Java Script by Raymond Hill](http://www.raymondhill.net/voronoi/rhill-voronoi.html)\n",
    "\n",
    "[GitHub for Raymond Hill's Javascript](https://github.com/gorhill/Javascript-Voronoi)\n",
    "\n",
    "[pyDelaunay2D](https://github.com/jmespadero/pyDelaunay2D)\n",
    "\n",
    "[Fortune’s algorithm and implementation](http://blog.ivank.net/fortunes-algorithm-and-implementation.html)\n",
    "\n",
    "[Another C++ implementation](https://www.cs.hmc.edu/~mbrubeck/voronoi.html)\n",
    "\n",
    "### Misc\n",
    "[Simplification of objects for adaptive matching and visualization](http://compbio.mit.edu/publications/_ConferencesBookChapters.pdf)\n",
    "\n",
    "[SweepLine Voronoi](http://www.wias-berlin.de/people/si/course/files/Fortune87-SweepLine-Voronoi.pdf)"
   ]
  },
  {
   "cell_type": "code",
   "execution_count": 9,
   "metadata": {
    "collapsed": false,
    "deletable": true,
    "editable": true
   },
   "outputs": [
    {
     "data": {
      "text/html": [
       "\n",
       "        <iframe\n",
       "            width=\"850\"\n",
       "            height=\"800\"\n",
       "            src=\"https://en.wikipedia.org/wiki/Fortune's_algorithm#Pseudocode\"\n",
       "            frameborder=\"0\"\n",
       "            allowfullscreen\n",
       "        ></iframe>\n",
       "        "
      ],
      "text/plain": [
       "<IPython.lib.display.IFrame at 0x7f9e858f6150>"
      ]
     },
     "execution_count": 9,
     "metadata": {},
     "output_type": "execute_result"
    }
   ],
   "source": [
    "from IPython.display import IFrame\n",
    "IFrame(\"https://en.wikipedia.org/wiki/Fortune's_algorithm#Pseudocode\", width=850, height=800)"
   ]
  },
  {
   "cell_type": "code",
   "execution_count": 8,
   "metadata": {
    "collapsed": false,
    "deletable": true,
    "editable": true
   },
   "outputs": [
    {
     "data": {
      "text/html": [
       "\n",
       "        <iframe\n",
       "            width=\"850\"\n",
       "            height=\"800\"\n",
       "            src=\"http://www.raymondhill.net/voronoi/rhill-voronoi.html\"\n",
       "            frameborder=\"0\"\n",
       "            allowfullscreen\n",
       "        ></iframe>\n",
       "        "
      ],
      "text/plain": [
       "<IPython.lib.display.IFrame at 0x7f9e858f66d0>"
      ]
     },
     "execution_count": 8,
     "metadata": {},
     "output_type": "execute_result"
    }
   ],
   "source": [
    "from IPython.display import IFrame\n",
    "IFrame('http://www.raymondhill.net/voronoi/rhill-voronoi.html', width=850, height=800)"
   ]
  },
  {
   "cell_type": "markdown",
   "metadata": {
    "collapsed": true,
    "deletable": true,
    "editable": true
   },
   "source": [
    "# Open Source GIS Software, Tools, and Data\n",
    "\n",
    "[List of tools](https://en.wikipedia.org/wiki/List_of_geographic_information_systems_software)\n",
    "\n",
    "### Army Core of Engineers \n",
    "[GRASS GIS](https://en.wikipedia.org/wiki/GRASS_GIS) \"**Geographic Resources Analysis Support System** (commonly termed GRASS GIS) is a geographic information system (GIS) software suite used for geospatial data management and analysis, image processing, producing graphics and maps, spatial and temporal modeling, and visualizing.\"\n",
    "[home page](http://grass.osgeo.org/)\n",
    "\n",
    "### Capaware\n",
    "[Capaware](https://en.wikipedia.org/wiki/Capaware) \"**Capaware** is a 3D general purpose virtual worlds viewer.\"\n",
    "[home page](http://www.capaware.org/)\n",
    "\n",
    "## USGS Data\n",
    "\n",
    "### NHD - National Hydrography Dataset \n",
    "[NHD](https://nhd.usgs.gov/) \"The **National Hydrography Dataset (NHD)** and Watershed Boundary Dataset (WBD) are used to portray surface water on The National Map.\"\n",
    "\n",
    "[data set PDF](https://nhd.usgs.gov/NHDv2.2.1_poster_081216.pdf)\n",
    "\n",
    "\n",
    "## Related\n",
    "\n",
    "### OSM\n",
    "[OpenStreetMap](https://en.wikipedia.org/wiki/OpenStreetMap) \"**OpenStreetMap (OSM)** is a collaborative project to create a free editable map of the world.\"\n",
    "[home page](https://www.openstreetmap.org/)\n",
    "\n"
   ]
  },
  {
   "cell_type": "code",
   "execution_count": null,
   "metadata": {
    "collapsed": true
   },
   "outputs": [],
   "source": [
    "\n"
   ]
  }
 ],
 "metadata": {
  "kernelspec": {
   "display_name": "Python 3",
   "language": "python",
   "name": "python3"
  },
  "language_info": {
   "codemirror_mode": {
    "name": "ipython",
    "version": 3
   },
   "file_extension": ".py",
   "mimetype": "text/x-python",
   "name": "python",
   "nbconvert_exporter": "python",
   "pygments_lexer": "ipython3",
   "version": "3.4.3"
  }
 },
 "nbformat": 4,
 "nbformat_minor": 0
}
