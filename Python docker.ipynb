{
 "cells": [
  {
   "cell_type": "markdown",
   "metadata": {},
   "source": [
    "# Python Docker\n",
    "## [Docs](https://docker-py.readthedocs.io/en/stable/)\n"
   ]
  },
  {
   "cell_type": "code",
   "execution_count": 8,
   "metadata": {
    "collapsed": false,
    "deletable": true,
    "editable": true
   },
   "outputs": [
    {
     "data": {
      "text/plain": [
       "sys.version_info(major=3, minor=4, micro=3, releaselevel='final', serial=0)"
      ]
     },
     "execution_count": 8,
     "metadata": {},
     "output_type": "execute_result"
    }
   ],
   "source": [
    "import sys\n",
    "sys.version_info "
   ]
  },
  {
   "cell_type": "code",
   "execution_count": 11,
   "metadata": {
    "collapsed": false,
    "deletable": true,
    "editable": true
   },
   "outputs": [],
   "source": [
    "import docker"
   ]
  },
  {
   "cell_type": "code",
   "execution_count": 12,
   "metadata": {
    "collapsed": true,
    "deletable": true,
    "editable": true
   },
   "outputs": [],
   "source": [
    "client = docker.from_env()"
   ]
  },
  {
   "cell_type": "code",
   "execution_count": 18,
   "metadata": {
    "collapsed": false,
    "deletable": true,
    "editable": true
   },
   "outputs": [],
   "source": [
    "myimages = client.images.list()"
   ]
  },
  {
   "cell_type": "code",
   "execution_count": 19,
   "metadata": {
    "collapsed": false,
    "deletable": true,
    "editable": true
   },
   "outputs": [],
   "source": [
    "mycontainers = client.containers.list()"
   ]
  },
  {
   "cell_type": "code",
   "execution_count": 37,
   "metadata": {
    "collapsed": false
   },
   "outputs": [],
   "source": [
    "from json2html import *\n",
    "from IPython.display import display, HTML, display_json\n",
    "#HTML(json2html.convert(json = {'a':'2','b':'3'}))"
   ]
  },
  {
   "cell_type": "code",
   "execution_count": 48,
   "metadata": {
    "collapsed": false
   },
   "outputs": [
    {
     "data": {
      "text/html": [
       "<table border=\"1\"><tr><th>VirtualSize</th><td>46778681323</td></tr><tr><th>Id</th><td>sha256:7a5ca9e9da01094448b74a5b8107411047234bcc8d366e0eea9e7686a1ad249d</td></tr><tr><th>Containers</th><td>-1</td></tr><tr><th>Labels</th><td><table border=\"1\"></table></td></tr><tr><th>Created</th><td>1487576020</td></tr><tr><th>ParentId</th><td>sha256:f695faa7dcddb8e5481fc33a9ee3a418c1706eb90be9e65502667e1acc1be832</td></tr><tr><th>Size</th><td>46778681323</td></tr><tr><th>RepoTags</th><td><ul><li>mymod/ros:v1</li></ul></td></tr><tr><th>RepoDigests</th><td></td></tr><tr><th>SharedSize</th><td>-1</td></tr></table>\n",
       "    <style type=\"text/css\">\n",
       "    th {   background-color: yellow;}\n",
       "    </style>\n",
       "    "
      ],
      "text/plain": [
       "<IPython.core.display.HTML object>"
      ]
     },
     "metadata": {},
     "output_type": "display_data"
    },
    {
     "data": {
      "text/html": [
       "<table border=\"1\"><tr><th>VirtualSize</th><td>46778681323</td></tr><tr><th>Id</th><td>sha256:f695faa7dcddb8e5481fc33a9ee3a418c1706eb90be9e65502667e1acc1be832</td></tr><tr><th>Containers</th><td>-1</td></tr><tr><th>Labels</th><td><table border=\"1\"></table></td></tr><tr><th>Created</th><td>1487574410</td></tr><tr><th>ParentId</th><td>sha256:4c69df95ee82c82da7618b0d1217e3c9371389dd884cf115f351f364b2862fda</td></tr><tr><th>Size</th><td>46778681323</td></tr><tr><th>RepoTags</th><td><ul><li>ros:latest</li></ul></td></tr><tr><th>RepoDigests</th><td></td></tr><tr><th>SharedSize</th><td>-1</td></tr></table>\n",
       "    <style type=\"text/css\">\n",
       "    th {   background-color: yellow;}\n",
       "    </style>\n",
       "    "
      ],
      "text/plain": [
       "<IPython.core.display.HTML object>"
      ]
     },
     "metadata": {},
     "output_type": "display_data"
    },
    {
     "data": {
      "text/html": [
       "<table border=\"1\"><tr><th>VirtualSize</th><td>2279813345</td></tr><tr><th>Id</th><td>sha256:d2b5faabb3cb87e6f5407883446976840b1ac78d85617ef3bdc1ac296d54e37b</td></tr><tr><th>Containers</th><td>-1</td></tr><tr><th>Labels</th><td><table border=\"1\"></table></td></tr><tr><th>Created</th><td>1487564266</td></tr><tr><th>ParentId</th><td>sha256:41a925058bbe47334ff2b4ca142248de47a69beebf865d572231def372dd2ea5</td></tr><tr><th>Size</th><td>2279813345</td></tr><tr><th>RepoTags</th><td><ul><li><none>:<none></li></ul></td></tr><tr><th>RepoDigests</th><td><ul><li><none>@<none></li></ul></td></tr><tr><th>SharedSize</th><td>-1</td></tr></table>\n",
       "    <style type=\"text/css\">\n",
       "    th {   background-color: yellow;}\n",
       "    </style>\n",
       "    "
      ],
      "text/plain": [
       "<IPython.core.display.HTML object>"
      ]
     },
     "metadata": {},
     "output_type": "display_data"
    },
    {
     "data": {
      "text/html": [
       "<table border=\"1\"><tr><th>VirtualSize</th><td>2187223706</td></tr><tr><th>Id</th><td>sha256:97682108ac3fc0cf92d1d07c4d5c9002ec6e84052edcc624b1db58ef071f3a44</td></tr><tr><th>Containers</th><td>-1</td></tr><tr><th>Labels</th><td><table border=\"1\"></table></td></tr><tr><th>Created</th><td>1487312585</td></tr><tr><th>ParentId</th><td>sha256:dabcedefeb045409c16d9b0bd1be359ac60010416da4839a363b76cc57ab9009</td></tr><tr><th>Size</th><td>2187223706</td></tr><tr><th>RepoTags</th><td><ul><li><none>:<none></li></ul></td></tr><tr><th>RepoDigests</th><td><ul><li><none>@<none></li></ul></td></tr><tr><th>SharedSize</th><td>-1</td></tr></table>\n",
       "    <style type=\"text/css\">\n",
       "    th {   background-color: yellow;}\n",
       "    </style>\n",
       "    "
      ],
      "text/plain": [
       "<IPython.core.display.HTML object>"
      ]
     },
     "metadata": {},
     "output_type": "display_data"
    },
    {
     "data": {
      "text/html": [
       "<table border=\"1\"><tr><th>VirtualSize</th><td>1112478504</td></tr><tr><th>Id</th><td>sha256:2a0f4b83ea3523f97378d967c3c3843ebe5a80efcbfd92bd8cb299a8eba19036</td></tr><tr><th>Containers</th><td>-1</td></tr><tr><th>Labels</th><td><table border=\"1\"></table></td></tr><tr><th>Created</th><td>1487310924</td></tr><tr><th>ParentId</th><td>sha256:dabcedefeb045409c16d9b0bd1be359ac60010416da4839a363b76cc57ab9009</td></tr><tr><th>Size</th><td>1112478504</td></tr><tr><th>RepoTags</th><td><ul><li><none>:<none></li></ul></td></tr><tr><th>RepoDigests</th><td><ul><li><none>@<none></li></ul></td></tr><tr><th>SharedSize</th><td>-1</td></tr></table>\n",
       "    <style type=\"text/css\">\n",
       "    th {   background-color: yellow;}\n",
       "    </style>\n",
       "    "
      ],
      "text/plain": [
       "<IPython.core.display.HTML object>"
      ]
     },
     "metadata": {},
     "output_type": "display_data"
    },
    {
     "data": {
      "text/html": [
       "<table border=\"1\"><tr><th>VirtualSize</th><td>1112462560</td></tr><tr><th>Id</th><td>sha256:6f1fbcf66d40d3c379d947f79ff31f6007765c36f59f2ceacb468db0d395d3bb</td></tr><tr><th>Containers</th><td>-1</td></tr><tr><th>Labels</th><td><table border=\"1\"></table></td></tr><tr><th>Created</th><td>1487310393</td></tr><tr><th>ParentId</th><td>sha256:dabcedefeb045409c16d9b0bd1be359ac60010416da4839a363b76cc57ab9009</td></tr><tr><th>Size</th><td>1112462560</td></tr><tr><th>RepoTags</th><td><ul><li><none>:<none></li></ul></td></tr><tr><th>RepoDigests</th><td><ul><li><none>@<none></li></ul></td></tr><tr><th>SharedSize</th><td>-1</td></tr></table>\n",
       "    <style type=\"text/css\">\n",
       "    th {   background-color: yellow;}\n",
       "    </style>\n",
       "    "
      ],
      "text/plain": [
       "<IPython.core.display.HTML object>"
      ]
     },
     "metadata": {},
     "output_type": "display_data"
    },
    {
     "data": {
      "text/html": [
       "<table border=\"1\"><tr><th>VirtualSize</th><td>957674621</td></tr><tr><th>Id</th><td>sha256:693eead3df4faacf0484481285f9903e1012d47c23244222ed9633be28344b90</td></tr><tr><th>Containers</th><td>-1</td></tr><tr><th>Labels</th><td><table border=\"1\"></table></td></tr><tr><th>Created</th><td>1487307135</td></tr><tr><th>ParentId</th><td>sha256:af847bfdb7573953c20c587267c33f5eb0fc52021128680c5e4bd11dbc8dc59f</td></tr><tr><th>Size</th><td>957674621</td></tr><tr><th>RepoTags</th><td><ul><li><none>:<none></li></ul></td></tr><tr><th>RepoDigests</th><td><ul><li><none>@<none></li></ul></td></tr><tr><th>SharedSize</th><td>-1</td></tr></table>\n",
       "    <style type=\"text/css\">\n",
       "    th {   background-color: yellow;}\n",
       "    </style>\n",
       "    "
      ],
      "text/plain": [
       "<IPython.core.display.HTML object>"
      ]
     },
     "metadata": {},
     "output_type": "display_data"
    },
    {
     "data": {
      "text/html": [
       "<table border=\"1\"><tr><th>VirtualSize</th><td>1028771047</td></tr><tr><th>Id</th><td>sha256:ea40dcc45724f3d77edd4fdf8cfd01047a2760ca8e83a7549da88a6d261b5d2a</td></tr><tr><th>Containers</th><td>-1</td></tr><tr><th>Labels</th><td><table border=\"1\"></table></td></tr><tr><th>Created</th><td>1486857997</td></tr><tr><th>ParentId</th><td></td></tr><tr><th>Size</th><td>1028771047</td></tr><tr><th>RepoTags</th><td><ul><li>tensorflow/tensorflow:latest</li></ul></td></tr><tr><th>RepoDigests</th><td><ul><li>tensorflow/tensorflow@sha256:b93920e48c8c1727ce27c7b1bc310ba2b681deeca302a23f042586ac646e4881</li></ul></td></tr><tr><th>SharedSize</th><td>-1</td></tr></table>\n",
       "    <style type=\"text/css\">\n",
       "    th {   background-color: yellow;}\n",
       "    </style>\n",
       "    "
      ],
      "text/plain": [
       "<IPython.core.display.HTML object>"
      ]
     },
     "metadata": {},
     "output_type": "display_data"
    },
    {
     "data": {
      "text/html": [
       "<table border=\"1\"><tr><th>VirtualSize</th><td>957674601</td></tr><tr><th>Id</th><td>sha256:af847bfdb7573953c20c587267c33f5eb0fc52021128680c5e4bd11dbc8dc59f</td></tr><tr><th>Containers</th><td>-1</td></tr><tr><th>Labels</th><td><table border=\"1\"></table></td></tr><tr><th>Created</th><td>1485548361</td></tr><tr><th>ParentId</th><td></td></tr><tr><th>Size</th><td>957674601</td></tr><tr><th>RepoTags</th><td></td></tr><tr><th>RepoDigests</th><td><ul><li>ros@sha256:7f77d68741cc415df4b27bb7c4d143278cfe40c8e1b37f4a295203615e527198</li></ul></td></tr><tr><th>SharedSize</th><td>-1</td></tr></table>\n",
       "    <style type=\"text/css\">\n",
       "    th {   background-color: yellow;}\n",
       "    </style>\n",
       "    "
      ],
      "text/plain": [
       "<IPython.core.display.HTML object>"
      ]
     },
     "metadata": {},
     "output_type": "display_data"
    },
    {
     "data": {
      "text/html": [
       "<table border=\"1\"><tr><th>VirtualSize</th><td>183999476</td></tr><tr><th>Id</th><td>sha256:84537c35b0b90babcf221d7bd44a43968e0cde61efb28acb107fca5ca1110098</td></tr><tr><th>Containers</th><td>-1</td></tr><tr><th>Labels</th><td></td></tr><tr><th>Created</th><td>1483387025</td></tr><tr><th>ParentId</th><td>sha256:68b8092a2c2414d896d752a5dbd5707d3c41ababa2c1918c171779406c663231</td></tr><tr><th>Size</th><td>183999476</td></tr><tr><th>RepoTags</th><td><ul><li><none>:<none></li></ul></td></tr><tr><th>RepoDigests</th><td><ul><li><none>@<none></li></ul></td></tr><tr><th>SharedSize</th><td>-1</td></tr></table>\n",
       "    <style type=\"text/css\">\n",
       "    th {   background-color: yellow;}\n",
       "    </style>\n",
       "    "
      ],
      "text/plain": [
       "<IPython.core.display.HTML object>"
      ]
     },
     "metadata": {},
     "output_type": "display_data"
    },
    {
     "data": {
      "text/html": [
       "<table border=\"1\"><tr><th>VirtualSize</th><td>89216812</td></tr><tr><th>Id</th><td>sha256:1aa2b8b541baa2220d9dc4297236b0d5e9e2aa66a197dca2cc8a8d04fc122e6d</td></tr><tr><th>Containers</th><td>-1</td></tr><tr><th>Labels</th><td><table border=\"1\"></table></td></tr><tr><th>Created</th><td>1473984777</td></tr><tr><th>ParentId</th><td>sha256:babf0db6bcb76ed09ced1ed7c970e3a0aa39dec7334b9e65c9ccf348f25659f0</td></tr><tr><th>Size</th><td>89216812</td></tr><tr><th>RepoTags</th><td><ul><li>gogs/gogs:latest</li></ul></td></tr><tr><th>RepoDigests</th><td></td></tr><tr><th>SharedSize</th><td>-1</td></tr></table>\n",
       "    <style type=\"text/css\">\n",
       "    th {   background-color: yellow;}\n",
       "    </style>\n",
       "    "
      ],
      "text/plain": [
       "<IPython.core.display.HTML object>"
      ]
     },
     "metadata": {},
     "output_type": "display_data"
    },
    {
     "data": {
      "text/html": [
       "<table border=\"1\"><tr><th>VirtualSize</th><td>120733278</td></tr><tr><th>Id</th><td>sha256:82289c29817051a07f12402995559f05d0a576713349be9502f1f4d00109fb3d</td></tr><tr><th>Containers</th><td>-1</td></tr><tr><th>Labels</th><td><table border=\"1\"></table></td></tr><tr><th>Created</th><td>1462317178</td></tr><tr><th>ParentId</th><td>sha256:16bfb1a1ed9b9c0003d341403acb3170ec753f9de602e973f6461a853423b414</td></tr><tr><th>Size</th><td>120733278</td></tr><tr><th>RepoTags</th><td><ul><li>ubuntu:latest</li></ul></td></tr><tr><th>RepoDigests</th><td></td></tr><tr><th>SharedSize</th><td>-1</td></tr></table>\n",
       "    <style type=\"text/css\">\n",
       "    th {   background-color: yellow;}\n",
       "    </style>\n",
       "    "
      ],
      "text/plain": [
       "<IPython.core.display.HTML object>"
      ]
     },
     "metadata": {},
     "output_type": "display_data"
    },
    {
     "data": {
      "text/html": [
       "<table border=\"1\"><tr><th>VirtualSize</th><td>967</td></tr><tr><th>Id</th><td>sha256:919d9479e268095e169e40d1a6f830a0e67c56b0b20fd470fa9764e2997af666</td></tr><tr><th>Containers</th><td>-1</td></tr><tr><th>Labels</th><td><table border=\"1\"></table></td></tr><tr><th>Created</th><td>1461714760</td></tr><tr><th>ParentId</th><td>sha256:63169caabf7a1c3ba02c58d4d7e9aab12d128c980a8969a5ce29a706bb9dbdd2</td></tr><tr><th>Size</th><td>967</td></tr><tr><th>RepoTags</th><td><ul><li>hello-world:latest</li></ul></td></tr><tr><th>RepoDigests</th><td></td></tr><tr><th>SharedSize</th><td>-1</td></tr></table>\n",
       "    <style type=\"text/css\">\n",
       "    th {   background-color: yellow;}\n",
       "    </style>\n",
       "    "
      ],
      "text/plain": [
       "<IPython.core.display.HTML object>"
      ]
     },
     "metadata": {},
     "output_type": "display_data"
    },
    {
     "data": {
      "text/html": [
       "<table border=\"1\"><tr><th>VirtualSize</th><td>3297179690</td></tr><tr><th>Id</th><td>sha256:085194438f203e3db445b3448ee15ce155f775445ac9a97272729db4381d709e</td></tr><tr><th>Containers</th><td>-1</td></tr><tr><th>Labels</th><td><table border=\"1\"></table></td></tr><tr><th>Created</th><td>1454295766</td></tr><tr><th>ParentId</th><td>sha256:5b65fbbeb0340c5ac85f802facba9df39989074d5a10265cabf88c8e9cd44481</td></tr><tr><th>Size</th><td>3297179690</td></tr><tr><th>RepoTags</th><td><ul><li>gibiansky/ihaskell:latest</li></ul></td></tr><tr><th>RepoDigests</th><td></td></tr><tr><th>SharedSize</th><td>-1</td></tr></table>\n",
       "    <style type=\"text/css\">\n",
       "    th {   background-color: yellow;}\n",
       "    </style>\n",
       "    "
      ],
      "text/plain": [
       "<IPython.core.display.HTML object>"
      ]
     },
     "metadata": {},
     "output_type": "display_data"
    }
   ],
   "source": [
    "htcss = \"\"\"\n",
    "    <style type=\"text/css\">\n",
    "    th {   background-color: yellow;}\n",
    "    </style>\n",
    "    \"\"\"\n",
    "\n",
    "for im in myimages:\n",
    "    #client.images.list()\n",
    "    #print(im.attrs)\n",
    "    myhtml = HTML(json2html.convert(json = im.attrs))\n",
    "    myhtml.data = myhtml.data + htcss\n",
    "    #display(HTML(json2html.convert(json = im.attrs)))\n",
    "    display(myhtml)\n",
    "    #print(myhtml.data) \n",
    "    #display_json(json2html.convert(json = im.attrs))\n",
    "    "
   ]
  },
  {
   "cell_type": "code",
   "execution_count": 6,
   "metadata": {
    "collapsed": true
   },
   "outputs": [],
   "source": [
    "container = client.containers.get('24291d6ec7')"
   ]
  },
  {
   "cell_type": "code",
   "execution_count": 7,
   "metadata": {
    "collapsed": false
   },
   "outputs": [
    {
     "data": {
      "text/plain": [
       "'f695faa7dcdd'"
      ]
     },
     "execution_count": 7,
     "metadata": {},
     "output_type": "execute_result"
    }
   ],
   "source": [
    "container.attrs['Config']['Image']\n"
   ]
  },
  {
   "cell_type": "code",
   "execution_count": 8,
   "metadata": {
    "collapsed": false
   },
   "outputs": [
    {
     "data": {
      "text/plain": [
       "b''"
      ]
     },
     "execution_count": 8,
     "metadata": {},
     "output_type": "execute_result"
    }
   ],
   "source": [
    "container.logs()"
   ]
  },
  {
   "cell_type": "code",
   "execution_count": 9,
   "metadata": {
    "collapsed": true
   },
   "outputs": [],
   "source": [
    "container.stop()"
   ]
  },
  {
   "cell_type": "code",
   "execution_count": 17,
   "metadata": {
    "collapsed": false
   },
   "outputs": [
    {
     "name": "stdout",
     "output_type": "stream",
     "text": [
      "<docker.models.nodes.NodeCollection object at 0x7fed801f35f8>\n"
     ]
    }
   ],
   "source": [
    "#if len(client.nodes) > 0: client.nodes.list(filters={'role': 'manager'})\n",
    "print(client.nodes)    "
   ]
  },
  {
   "cell_type": "code",
   "execution_count": null,
   "metadata": {
    "collapsed": true
   },
   "outputs": [],
   "source": []
  }
 ],
 "metadata": {
  "kernelspec": {
   "display_name": "Python 3",
   "language": "python",
   "name": "python3"
  },
  "language_info": {
   "codemirror_mode": {
    "name": "ipython",
    "version": 3
   },
   "file_extension": ".py",
   "mimetype": "text/x-python",
   "name": "python",
   "nbconvert_exporter": "python",
   "pygments_lexer": "ipython3",
   "version": "3.4.3"
  }
 },
 "nbformat": 4,
 "nbformat_minor": 2
}
