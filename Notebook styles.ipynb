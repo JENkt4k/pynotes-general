{
 "cells": [
  {
   "cell_type": "markdown",
   "metadata": {
    "deletable": true,
    "editable": true
   },
   "source": [
    "# Code Test\n",
    "\n",
    "http://moderndata.plot.ly/custom-styling-for-ipython-notebooks-with-3-lines-of-code/\n",
    "\n",
    "\n",
    "http://nbviewer.jupyter.org/github/barbagroup/AeroPython/tree/master/\n",
    "\n",
    "\n",
    "https://github.com/JENkt4k/notebook/blob/master/notebook/static/notebook/js/codecell.js\n",
    "\n",
    "\n",
    "### Bash\n",
    "```bash\n",
    "git clone --bare https://github.com/[user]/[repo].git\n",
    "cd [repo].git\n",
    "```\n",
    "\n",
    "### C++\n",
    "```c++\n",
    "int main()\n",
    "{\n",
    "  std::out << \"hello world\";\n",
    "  return 0\n",
    "}\n",
    "```\n",
    "\n",
    "### Python\n",
    "```python\n",
    "print hello world\n",
    "```"
   ]
  },
  {
   "cell_type": "code",
   "execution_count": 2,
   "metadata": {
    "collapsed": false,
    "deletable": true,
    "editable": true
   },
   "outputs": [
    {
     "data": {
      "text/html": [
       "\n",
       "<style>\n",
       "\n",
       "html {\n",
       "  font-size: 62.5% !important; }\n",
       "body {\n",
       "  font-size: 1.5em !important; /* currently ems cause chrome bug misinterpreting rems on body element */\n",
       "  line-height: 1.6 !important;\n",
       "  font-weight: 400 !important;\n",
       "  font-family: \"Raleway\", \"HelveticaNeue\", \"Helvetica Neue\", Helvetica, Arial, sans-serif !important;\n",
       "  color: #222 !important; }\n",
       "\n",
       "div{ border-radius: 0px !important;  }\n",
       "div.CodeMirror-sizer{ background: rgb(244, 244, 248) !important; }\n",
       "div.input_area{ background: rgb(244, 244, 248) !important; }\n",
       "\n",
       "div.out_prompt_overlay:hover{ background: rgb(244, 244, 248) !important; }\n",
       "div.input_prompt:hover{ background: rgb(244, 244, 248) !important; }\n",
       "\n",
       "h1, h2, h3, h4, h5, h6 {\n",
       "  color: #333 !important;\n",
       "  margin-top: 0 !important;\n",
       "  margin-bottom: 2rem !important;\n",
       "  font-weight: 300 !important; }\n",
       "h1 { font-size: 4.0rem !important; line-height: 1.2 !important;  letter-spacing: -.1rem !important;}\n",
       "h2 { font-size: 3.6rem !important; line-height: 1.25 !important; letter-spacing: -.1rem !important; }\n",
       "h3 { font-size: 3.0rem !important; line-height: 1.3 !important;  letter-spacing: -.1rem !important; }\n",
       "h4 { font-size: 2.4rem !important; line-height: 1.35 !important; letter-spacing: -.08rem !important; }\n",
       "h5 { font-size: 1.8rem !important; line-height: 1.5 !important;  letter-spacing: -.05rem !important; }\n",
       "h6 { font-size: 1.5rem !important; line-height: 1.6 !important;  letter-spacing: 0 !important; }\n",
       "\n",
       "@media (min-width: 550px) {\n",
       "  h1 { font-size: 5.0rem !important; }\n",
       "  h2 { font-size: 4.2rem !important; }\n",
       "  h3 { font-size: 3.6rem !important; }\n",
       "  h4 { font-size: 3.0rem !important; }\n",
       "  h5 { font-size: 2.4rem !important; }\n",
       "  h6 { font-size: 1.5rem !important; }\n",
       "}\n",
       "\n",
       "p {\n",
       "  margin-top: 0 !important; }\n",
       "  \n",
       "a {\n",
       "  color: #1EAEDB !important; }\n",
       "a:hover {\n",
       "  color: #0FA0CE !important; }\n",
       "  \n",
       "code {\n",
       "  padding: .2rem .5rem !important;\n",
       "  margin: 0 .2rem !important;\n",
       "  font-size: 90% !important;\n",
       "  white-space: nowrap !important;\n",
       "  background: #F1F1F1 !important;\n",
       "  border: 1px solid #E1E1E1 !important;\n",
       "  border-radius: 4px !important; }\n",
       "pre > code {\n",
       "  display: block !important;\n",
       "  padding: 1rem 1.5rem !important;\n",
       "  white-space: pre !important; }\n",
       "  \n",
       "button{ border-radius: 0px !important; }\n",
       ".navbar-inner{ background-image: none !important;  }\n",
       "select, textarea{ border-radius: 0px !important; }\n",
       "\n",
       "</style>"
      ],
      "text/plain": [
       "<IPython.core.display.HTML object>"
      ]
     },
     "metadata": {},
     "output_type": "display_data"
    }
   ],
   "source": [
    "%%html\n",
    "\n",
    "<style>\n",
    "\n",
    "html {\n",
    "  font-size: 62.5% !important; }\n",
    "body {\n",
    "  font-size: 1.5em !important; /* currently ems cause chrome bug misinterpreting rems on body element */\n",
    "  line-height: 1.6 !important;\n",
    "  font-weight: 400 !important;\n",
    "  font-family: \"Raleway\", \"HelveticaNeue\", \"Helvetica Neue\", Helvetica, Arial, sans-serif !important;\n",
    "  color: #222 !important; }\n",
    "\n",
    "div{ border-radius: 0px !important;  }\n",
    "div.CodeMirror-sizer{ background: rgb(244, 244, 248) !important; }\n",
    "div.input_area{ background: rgb(244, 244, 248) !important; }\n",
    "\n",
    "div.out_prompt_overlay:hover{ background: rgb(244, 244, 248) !important; }\n",
    "div.input_prompt:hover{ background: rgb(244, 244, 248) !important; }\n",
    "\n",
    "h1, h2, h3, h4, h5, h6 {\n",
    "  color: #333 !important;\n",
    "  margin-top: 0 !important;\n",
    "  margin-bottom: 2rem !important;\n",
    "  font-weight: 300 !important; }\n",
    "h1 { font-size: 4.0rem !important; line-height: 1.2 !important;  letter-spacing: -.1rem !important;}\n",
    "h2 { font-size: 3.6rem !important; line-height: 1.25 !important; letter-spacing: -.1rem !important; }\n",
    "h3 { font-size: 3.0rem !important; line-height: 1.3 !important;  letter-spacing: -.1rem !important; }\n",
    "h4 { font-size: 2.4rem !important; line-height: 1.35 !important; letter-spacing: -.08rem !important; }\n",
    "h5 { font-size: 1.8rem !important; line-height: 1.5 !important;  letter-spacing: -.05rem !important; }\n",
    "h6 { font-size: 1.5rem !important; line-height: 1.6 !important;  letter-spacing: 0 !important; }\n",
    "\n",
    "@media (min-width: 550px) {\n",
    "  h1 { font-size: 5.0rem !important; }\n",
    "  h2 { font-size: 4.2rem !important; }\n",
    "  h3 { font-size: 3.6rem !important; }\n",
    "  h4 { font-size: 3.0rem !important; }\n",
    "  h5 { font-size: 2.4rem !important; }\n",
    "  h6 { font-size: 1.5rem !important; }\n",
    "}\n",
    "\n",
    "p {\n",
    "  margin-top: 0 !important; }\n",
    "  \n",
    "a {\n",
    "  color: #1EAEDB !important; }\n",
    "a:hover {\n",
    "  color: #0FA0CE !important; }\n",
    "  \n",
    "code {\n",
    "  padding: .2rem .5rem !important;\n",
    "  margin: 0 .2rem !important;\n",
    "  font-size: 90% !important;\n",
    "  white-space: nowrap !important;\n",
    "  background: #F1F1F1 !important;\n",
    "  border: 1px solid #E1E1E1 !important;\n",
    "  border-radius: 4px !important; }\n",
    "pre > code {\n",
    "  display: block !important;\n",
    "  padding: 1rem 1.5rem !important;\n",
    "  white-space: pre !important; }\n",
    "  \n",
    "button{ border-radius: 0px !important; }\n",
    ".navbar-inner{ background-image: none !important;  }\n",
    "select, textarea{ border-radius: 0px !important; }\n",
    "\n",
    "</style>"
   ]
  },
  {
   "cell_type": "markdown",
   "metadata": {
    "deletable": true,
    "editable": true
   },
   "source": [
    "# Code Test\n",
    "\n",
    "### Bash\n",
    "```bash\n",
    "git clone --bare https://github.com/[user]/[repo].git\n",
    "cd [repo].git\n",
    "```\n",
    "\n",
    "### C++\n",
    "```c++\n",
    "int main()\n",
    "{\n",
    "  std::out << \"hello world\";\n",
    "  return 0;\n",
    "}\n",
    "```\n",
    "\n",
    "### Python\n",
    "```python\n",
    "print \"hello world\"\n",
    "```"
   ]
  },
  {
   "cell_type": "code",
   "execution_count": 10,
   "metadata": {
    "collapsed": false,
    "deletable": true,
    "editable": true
   },
   "outputs": [
    {
     "name": "stdout",
     "output_type": "stream",
     "text": [
      "hello world\n"
     ]
    }
   ],
   "source": [
    "print \"hello world\""
   ]
  },
  {
   "cell_type": "code",
   "execution_count": 26,
   "metadata": {
    "collapsed": false,
    "deletable": true,
    "editable": true
   },
   "outputs": [
    {
     "name": "stdout",
     "output_type": "stream",
     "text": [
      "env: EDITOR=/usr/bin/nano\n"
     ]
    }
   ],
   "source": [
    "%env EDITOR=/usr/bin/nano"
   ]
  },
  {
   "cell_type": "code",
   "execution_count": 27,
   "metadata": {
    "collapsed": false,
    "deletable": true,
    "editable": true
   },
   "outputs": [
    {
     "name": "stdout",
     "output_type": "stream",
     "text": [
      "IPython will make a temporary file named: /tmp/ipython_edit_vnmGqD/ipython_edit_uolvX9.py\n"
     ]
    }
   ],
   "source": [
    "%edit "
   ]
  },
  {
   "cell_type": "code",
   "execution_count": 28,
   "metadata": {
    "collapsed": false,
    "deletable": true,
    "editable": true
   },
   "outputs": [],
   "source": [
    "edit temp1.py"
   ]
  },
  {
   "cell_type": "code",
   "execution_count": 29,
   "metadata": {
    "collapsed": false,
    "deletable": true,
    "editable": true
   },
   "outputs": [],
   "source": [
    "def hello():\n",
    "    print \"eat it\"\n"
   ]
  },
  {
   "cell_type": "code",
   "execution_count": 30,
   "metadata": {
    "collapsed": false,
    "deletable": true,
    "editable": true
   },
   "outputs": [
    {
     "name": "stdout",
     "output_type": "stream",
     "text": [
      "IPython will make a temporary file named: /tmp/ipython_edit_P0KKMR/ipython_edit_WYVQ38.py\n"
     ]
    }
   ],
   "source": [
    "%edit\n",
    "def hello():\n",
    "    print \"eat it\""
   ]
  },
  {
   "cell_type": "code",
   "execution_count": 14,
   "metadata": {
    "collapsed": false,
    "deletable": true,
    "editable": true
   },
   "outputs": [
    {
     "data": {
      "text/plain": [
       "u'/home/james/Documents/Git/MyGitHub/pynotes-general'"
      ]
     },
     "execution_count": 14,
     "metadata": {},
     "output_type": "execute_result"
    }
   ],
   "source": [
    "%pwd"
   ]
  },
  {
   "cell_type": "code",
   "execution_count": null,
   "metadata": {
    "collapsed": true,
    "deletable": true,
    "editable": true
   },
   "outputs": [],
   "source": [
    "from IPython.core.display import HTML\n",
    "import urllib2\n",
    "HTML(urllib2.urlopen('http://bit.ly/1Bf5Hft').read())"
   ]
  },
  {
   "cell_type": "markdown",
   "metadata": {
    "deletable": true,
    "editable": true
   },
   "source": [
    "http://arogozhnikov.github.io/2016/09/10/jupyter-features.html\n",
    "\n",
    "\n",
    "http://arogozhnikov.github.io/2016/09/10/jupyter-features.html\n",
    "\n",
    "\n",
    "http://stackoverflow.com/questions/21034373/how-to-load-edit-run-save-text-files-py-into-an-ipython-notebook-cell\n",
    "\n",
    "\n",
    "https://ipython.org/ipython-doc/3/config/intro.html\n",
    "\n",
    "\n",
    "https://ipython.org/ipython-doc/1/config/editors.html\n",
    "\n",
    "\n",
    "http://stackoverflow.com/questions/15681153/external-editor-for-ipython-notebook\n",
    "\n",
    "\n",
    "http://nbviewer.jupyter.org/gist/jackparmer/8d7e979bc4cec23db057\n",
    "\n",
    "\n",
    "http://nbviewer.jupyter.org/github/barbagroup/AeroPython/tree/master/\n",
    "\n",
    "\n",
    "http://moderndata.plot.ly/custom-styling-for-ipython-notebooks-with-3-lines-of-code/\n",
    "\n",
    "\n",
    "https://ipython.org/ipython-doc/3/interactive/magics.html\n",
    "\n",
    "\n"
   ]
  },
  {
   "cell_type": "code",
   "execution_count": 36,
   "metadata": {
    "collapsed": false,
    "deletable": true,
    "editable": true
   },
   "outputs": [
    {
     "name": "stdout",
     "output_type": "stream",
     "text": [
      "Writing filename.test.css\n"
     ]
    }
   ],
   "source": [
    "%%writefile filename.test.css\n",
    "\"\"\"%%html\n",
    "\n",
    "<style>\n",
    "\n",
    "html {\n",
    "  font-size: 62.5% !important; }\n",
    "body {\n",
    "  font-size: 1.5em !important; /* currently ems cause chrome bug misinterpreting rems on body element */\n",
    "  line-height: 1.6 !important;\n",
    "  font-weight: 400 !important;\n",
    "  font-family: \"Raleway\", \"HelveticaNeue\", \"Helvetica Neue\", Helvetica, Arial, sans-serif !important;\n",
    "  color: #222 !important; }\n",
    "\n",
    "div{ border-radius: 0px !important;  }\n",
    "div.CodeMirror-sizer{ background: rgb(244, 244, 248) !important; }\n",
    "div.input_area{ background: rgb(244, 244, 248) !important; }\n",
    "\n",
    "div.out_prompt_overlay:hover{ background: rgb(244, 244, 248) !important; }\n",
    "div.input_prompt:hover{ background: rgb(244, 244, 248) !important; }\n",
    "\n",
    "h1, h2, h3, h4, h5, h6 {\n",
    "  color: #333 !important;\n",
    "  margin-top: 0 !important;\n",
    "  margin-bottom: 2rem !important;\n",
    "  font-weight: 300 !important; }\n",
    "h1 { font-size: 4.0rem !important; line-height: 1.2 !important;  letter-spacing: -.1rem !important;}\n",
    "h2 { font-size: 3.6rem !important; line-height: 1.25 !important; letter-spacing: -.1rem !important; }\n",
    "h3 { font-size: 3.0rem !important; line-height: 1.3 !important;  letter-spacing: -.1rem !important; }\n",
    "h4 { font-size: 2.4rem !important; line-height: 1.35 !important; letter-spacing: -.08rem !important; }\n",
    "h5 { font-size: 1.8rem !important; line-height: 1.5 !important;  letter-spacing: -.05rem !important; }\n",
    "h6 { font-size: 1.5rem !important; line-height: 1.6 !important;  letter-spacing: 0 !important; }\n",
    "\n",
    "@media (min-width: 550px) {\n",
    "  h1 { font-size: 5.0rem !important; }\n",
    "  h2 { font-size: 4.2rem !important; }\n",
    "  h3 { font-size: 3.6rem !important; }\n",
    "  h4 { font-size: 3.0rem !important; }\n",
    "  h5 { font-size: 2.4rem !important; }\n",
    "  h6 { font-size: 1.5rem !important; }\n",
    "}\n",
    "\n",
    "p {\n",
    "  margin-top: 0 !important; }\n",
    "  \n",
    "a {\n",
    "  color: #1EAEDB !important; }\n",
    "a:hover {\n",
    "  color: #0FA0CE !important; }\n",
    "  \n",
    "code {\n",
    "  padding: .2rem .5rem !important;\n",
    "  margin: 0 .2rem !important;\n",
    "  font-size: 90% !important;\n",
    "  white-space: nowrap !important;\n",
    "  background: #F1F1F1 !important;\n",
    "  border: 1px solid #E1E1E1 !important;\n",
    "  border-radius: 4px !important; }\n",
    "pre > code {\n",
    "  display: block !important;\n",
    "  padding: 1rem 1.5rem !important;\n",
    "  white-space: pre !important; }\n",
    "  \n",
    "button{ border-radius: 0px !important; }\n",
    ".navbar-inner{ background-image: none !important;  }\n",
    "select, textarea{ border-radius: 0px !important; }\n",
    "\n",
    "</style>\"\"\""
   ]
  },
  {
   "cell_type": "code",
   "execution_count": 3,
   "metadata": {
    "collapsed": true,
    "deletable": true,
    "editable": true
   },
   "outputs": [],
   "source": [
    "from IPython.core.display import HTML\n",
    "\n",
    "def blackbg():\n",
    "\t\"\"\"Black Background code mirror theme.\"\"\"\n",
    "\thtml = \"\"\"\n",
    "<style type=\"text/css\">\n",
    ".cm-s-ipython { background-color: black; color: lightblue; }\n",
    ".cm-s-ipython span.cm-keyword {color: #00ff00; font-weight: bold;}\n",
    ".cm-s-ipython span.cm-number {color: #ee88ee;}\n",
    ".cm-s-ipython span.cm-operator {color: lime; font-weight: bold;}\n",
    ".cm-s-ipython span.cm-meta {color: white;}\n",
    ".cm-s-ipython span.cm-comment {color: cyan; font-style: italic;}\n",
    ".cm-s-ipython span.cm-string {color: red;}\n",
    ".cm-s-ipython span.cm-error {color: darkred;}\n",
    ".cm-s-ipython span.cm-builtin {color: pink; font-weight: bold;}\n",
    ".CodeMirror pre.CodeMirror-cursor {color: white; border-left: 1px solid white;}\n",
    ".cm-s-ipython span.cm-variable {color: white;}\n",
    "div.text_cell_input  {   background-color: black;    color: white;}\n",
    "div.text_cell {   background-color: black;    color: white;}\n",
    "div#notebook {    background-color: black;     background-image: none;     color: white;}\n",
    "div.code_cell { background-color: black;    color: white;}\n",
    "div.metaedit .maintoolbar{    background-color: black;    color: white;}\n",
    "body{    background-color: black;    color: white;}\n",
    "#notebook_name {  background-color: #333333;    color: white; background-image:none;}\n",
    "span.ui-widget-content{  background-color: #333333;    color: white; background-image:none;}\n",
    "div.ui-widget-content{  background-color: #333333;    color: white; background-image:none;}\n",
    "div#ui-button ui-widget ui-state-default ui-corner-all ui-button-text-only output_collapsed vbox{  \n",
    "  background-color: black;    color: white;}\n",
    "div.input_area{    background-color: black;    color: white;}\n",
    "div.ui-widget-content { background-color: #333333; background-image: none;}\n",
    "div.input_prompt {color:#6666CC; font-weight: bold;}\n",
    "div.output_prompt {color:#CC6666; font-weight: bold;}\n",
    "div.output_text {color:white;}\n",
    "div.text_cell_render {color:white;}\n",
    "span.item_name {color:white;}\n",
    ".ui-widget-content a {color:white;}\n",
    "div.tooltip .ui-corner-all .tooltiptext .smalltooltip {background-color: black; color:white;}\n",
    ".pln {color:white} \n",
    ".typ {color:#f9f}\n",
    ".lit {color:#BBB}\n",
    ".kwd {color:#3e3}\n",
    ".metaedit {background: transparent; border-color: transparent; color:white;}\n",
    ".ui-button-text {background: #112; color:white; border-color:666;}\n",
    ".ui-menubar  {background-color: transparent; background: transparent; background-image:none;}\n",
    ".ui-widget-header  {background-color: transparent; background: transparent; background-image:none;}\n",
    ".ui-helper-clearfix {background-color: transparent; background: transparent; background-image:none;}\n",
    ".ui-corner-all {background: #112; color: white;}\n",
    ".ui-widget  {background: #112; color: white;}\n",
    ".ui-widget-content {background: #112; color: white;}\n",
    "div.highlight {background:black;} /* needed for nbviewer */\n",
    "div.output_stderr {background:#400;}\n",
    "</style>\"\"\"\n",
    "\treturn HTML(html)"
   ]
  },
  {
   "cell_type": "markdown",
   "metadata": {
    "deletable": true,
    "editable": true
   },
   "source": [
    "# Code Test\n",
    "\n",
    "http://moderndata.plot.ly/custom-styling-for-ipython-notebooks-with-3-lines-of-code/\n",
    "\n",
    "\n",
    "http://nbviewer.jupyter.org/github/barbagroup/AeroPython/tree/master/\n",
    "\n",
    "### Bash\n",
    "```bash\n",
    "git clone --bare https://github.com/[user]/[repo].git\n",
    "cd [repo].git\n",
    "```\n",
    "\n",
    "### C++\n",
    "```c++\n",
    "int main()\n",
    "{\n",
    "  std::out << \"hello world\";\n",
    "  return 0\n",
    "}\n",
    "```\n",
    "\n",
    "### Python\n",
    "```python\n",
    "print hello world\n",
    "```"
   ]
  },
  {
   "cell_type": "markdown",
   "metadata": {
    "collapsed": true,
    "deletable": true,
    "editable": true
   },
   "source": [
    "# Append a style sheet to an HTML object\n",
    "\n",
    "```python\n",
    "from json2html import *\n",
    "from IPython.display import display, HTML\n",
    "\n",
    "mydict = {a:1, b:2, c:3}\n",
    "\n",
    "htmlcss = \"\"\"\n",
    "    <style type=\"text/css\">\n",
    "    th {   background-color: yellow;}\n",
    "    </style>\n",
    "    \"\"\"\n",
    "\n",
    "myhtml = HTML(json2html.convert(json = myjson))\n",
    "myhtm.data = myhtm.data + htmlcss\n",
    "\n",
    "```"
   ]
  },
  {
   "cell_type": "code",
   "execution_count": 7,
   "metadata": {
    "collapsed": false
   },
   "outputs": [
    {
     "data": {
      "text/html": [
       "<table border=\"1\"><tr><th>b</th><td>2</td></tr><tr><th>c</th><td>3</td></tr><tr><th>a</th><td>1</td></tr></table>"
      ],
      "text/plain": [
       "<IPython.core.display.HTML object>"
      ]
     },
     "metadata": {},
     "output_type": "display_data"
    }
   ],
   "source": [
    "from json2html import *\n",
    "from IPython.display import display, HTML\n",
    "\n",
    "mydict = { 'a':1, 'b':2, 'c':3}\n",
    "\n",
    "htmlcss = \"\"\"\n",
    "    <style type=\"text/css\">\n",
    "    th {   background-color: yellow;}\n",
    "    </style>\n",
    "    \"\"\"\n",
    "\n",
    "myhtml = HTML(json2html.convert(json = mydict))\n",
    "display(myhtml)\n"
   ]
  },
  {
   "cell_type": "code",
   "execution_count": 8,
   "metadata": {
    "collapsed": false
   },
   "outputs": [
    {
     "data": {
      "text/html": [
       "<table border=\"1\"><tr><th>b</th><td>2</td></tr><tr><th>c</th><td>3</td></tr><tr><th>a</th><td>1</td></tr></table>\n",
       "    <style type=\"text/css\">\n",
       "    th {   background-color: yellow;}\n",
       "    </style>\n",
       "    "
      ],
      "text/plain": [
       "<IPython.core.display.HTML object>"
      ]
     },
     "metadata": {},
     "output_type": "display_data"
    }
   ],
   "source": [
    "#after executing this cell, both tables change: the left column will have a yellow bg\n",
    "myhtml.data = myhtml.data + htmlcss\n",
    "display(myhtml)"
   ]
  },
  {
   "cell_type": "code",
   "execution_count": null,
   "metadata": {
    "collapsed": true
   },
   "outputs": [],
   "source": []
  }
 ],
 "metadata": {
  "kernelspec": {
   "display_name": "Python 3",
   "language": "python",
   "name": "python3"
  },
  "language_info": {
   "codemirror_mode": {
    "name": "ipython",
    "version": 3
   },
   "file_extension": ".py",
   "mimetype": "text/x-python",
   "name": "python",
   "nbconvert_exporter": "python",
   "pygments_lexer": "ipython3",
   "version": "3.4.3"
  }
 },
 "nbformat": 4,
 "nbformat_minor": 0
}
