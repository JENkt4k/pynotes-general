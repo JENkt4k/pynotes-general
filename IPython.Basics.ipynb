{
 "cells": [
  {
   "cell_type": "markdown",
   "metadata": {
    "deletable": true,
    "editable": true
   },
   "source": [
    "# Setting Style Sheets for elements\n",
    "\n",
    "To get the code blocks colored as in [Cheat Sheet For Markdown](http://nestacms.com/docs/creating-content/markdown-cheat-sheet) I added the \"<span class=\"mystyle\">**%%**</span>HTML\" code block below.\n",
    "\n",
    "This tip was from the folowing Stack Exchange [article](http://stackoverflow.com/questions/32365141/markdown-in-ipython-notebook-how-to-highlight-code)"
   ]
  },
  {
   "cell_type": "code",
   "execution_count": 5,
   "metadata": {
    "collapsed": false,
    "deletable": true,
    "editable": true
   },
   "outputs": [
    {
     "data": {
      "text/html": [
       "<style> \n",
       "pre.bash {background-color : rgb(253, 246, 227) !important;} \n",
       "span.mystyle {color: purple }\n",
       "</style>"
      ],
      "text/plain": [
       "<IPython.core.display.HTML object>"
      ]
     },
     "metadata": {},
     "output_type": "display_data"
    }
   ],
   "source": [
    "%%HTML\n",
    "<style> \n",
    "pre.bash {background-color : rgb(253, 246, 227) !important;} \n",
    "span.mystyle {color: purple }\n",
    "</style>"
   ]
  },
  {
   "cell_type": "markdown",
   "metadata": {
    "deletable": true,
    "editable": true
   },
   "source": [
    "## Now when I show code in Markdown cells, the format changes\n",
    "\n",
    "### HTML Code\n",
    "```html\n",
    "%%HTML\n",
    "<style> \n",
    "pre.bash {background-color : rgb(253, 246, 227) !important;} \n",
    "code {background-color : rgb(253, 246, 227) !important;}\n",
    "code.bash {background-color : lightgrey !important;}\n",
    "span.mystyle {color: purple }\n",
    "</style>\n",
    "```\n",
    "\n",
    "### Python\n",
    "```python\n",
    "print \"this is python code\"\n",
    "```\n",
    "\n",
    "### C++\n",
    "```c++\n",
    "#include <iostream>\n",
    "\n",
    "using namespace std;\n",
    "\n",
    "int main()\n",
    "{\n",
    "\tcout << \"Hello World!\" << endl;\n",
    "\treturn 0;\n",
    "}\n",
    "```\n",
    "\n",
    "### Bash\n",
    "```bash\n",
    "g++ -v\n",
    "g++ hello.cc -o hello\n",
    "```\n",
    "\n",
    "### Custom \n",
    "\n",
    "<code class=\"cm-s-ipython language-bash\" >\n",
    "g++ -v\n",
    "g++ hello.cc -o hello\n",
    "</code>\n",
    "\n",
    "<pre class=\"bash\"><code class=\"bash\" >\n",
    "g++ -v\n",
    "g++ hello.cc -o hello\n",
    "</code>\n",
    "</pre>\n",
    "\n",
    "[Source for more tricks](https://ipython.org/ipython-doc/3/interactive/magics.html)"
   ]
  },
  {
   "cell_type": "markdown",
   "metadata": {
    "deletable": true,
    "editable": true
   },
   "source": [
    "# Latex expressions\n",
    "\n",
    "$e^{i\\pi} + 1 = 0$\n",
    "\n",
    "\n",
    "$$e^x=\\sum_{i=0}^\\infty \\frac{1}{i!}x^i$$"
   ]
  },
  {
   "cell_type": "markdown",
   "metadata": {
    "deletable": true,
    "editable": true
   },
   "source": []
  },
  {
   "cell_type": "markdown",
   "metadata": {
    "collapsed": true,
    "deletable": true,
    "editable": true
   },
   "source": [
    "# Append a style sheet to an HTML object\n",
    "\n",
    "```python\n",
    "from json2html import *\n",
    "from IPython.display import display, HTML\n",
    "\n",
    "mydict = {a:1, b:2, c:3}\n",
    "\n",
    "htmlcss = \"\"\"\n",
    "    <style type=\"text/css\">\n",
    "    th {   background-color: yellow;}\n",
    "    </style>\n",
    "    \"\"\"\n",
    "\n",
    "myhtml = HTML(json2html.convert(json = myjson))\n",
    "myhtm.data = myhtm.data + htmlcss\n",
    "\n",
    "```"
   ]
  },
  {
   "cell_type": "code",
   "execution_count": 2,
   "metadata": {
    "collapsed": false
   },
   "outputs": [
    {
     "data": {
      "text/html": [
       "<table border=\"1\"><tr><th>a</th><td>1</td></tr><tr><th>c</th><td>3</td></tr><tr><th>b</th><td>2</td></tr></table>"
      ],
      "text/plain": [
       "<IPython.core.display.HTML object>"
      ]
     },
     "metadata": {},
     "output_type": "display_data"
    }
   ],
   "source": [
    "from json2html import *\n",
    "from IPython.display import display, HTML\n",
    "\n",
    "mydict = { 'a':1, 'b':2, 'c':3}\n",
    "\n",
    "htmlcss = \"\"\"\n",
    "    <style type=\"text/css\">\n",
    "    th {   background-color: yellow;}\n",
    "    </style>\n",
    "    \"\"\"\n",
    "\n",
    "myhtml = HTML(json2html.convert(json = mydict))\n",
    "display(myhtml)"
   ]
  },
  {
   "cell_type": "code",
   "execution_count": 3,
   "metadata": {
    "collapsed": false
   },
   "outputs": [
    {
     "data": {
      "text/html": [
       "<table border=\"1\"><tr><th>a</th><td>1</td></tr><tr><th>c</th><td>3</td></tr><tr><th>b</th><td>2</td></tr></table>\n",
       "    <style type=\"text/css\">\n",
       "    th {   background-color: yellow;}\n",
       "    </style>\n",
       "    "
      ],
      "text/plain": [
       "<IPython.core.display.HTML object>"
      ]
     },
     "metadata": {},
     "output_type": "display_data"
    }
   ],
   "source": [
    "#after executing this cell, both tables change: the left column will have a yellow bg\n",
    "myhtml.data = myhtml.data + htmlcss\n",
    "display(myhtml)"
   ]
  },
  {
   "cell_type": "code",
   "execution_count": null,
   "metadata": {
    "collapsed": true
   },
   "outputs": [],
   "source": []
  }
 ],
 "metadata": {
  "kernelspec": {
   "display_name": "Python 3",
   "language": "python",
   "name": "python3"
  },
  "language_info": {
   "codemirror_mode": {
    "name": "ipython",
    "version": 3
   },
   "file_extension": ".py",
   "mimetype": "text/x-python",
   "name": "python",
   "nbconvert_exporter": "python",
   "pygments_lexer": "ipython3",
   "version": "3.4.3"
  }
 },
 "nbformat": 4,
 "nbformat_minor": 0
}
